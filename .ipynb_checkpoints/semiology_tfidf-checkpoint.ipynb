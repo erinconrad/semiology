{
 "cells": [
  {
   "cell_type": "code",
   "execution_count": 1,
   "id": "4661ee00",
   "metadata": {},
   "outputs": [],
   "source": [
    "import numpy as np\n",
    "import pandas as pd\n",
    "import re\n",
    "from sklearn.metrics import roc_curve, auc\n",
    "import matplotlib.pyplot as plt\n",
    "from sklearn.feature_extraction.text import TfidfVectorizer\n",
    "from sklearn.linear_model import LogisticRegression\n",
    "from sklearn.datasets import make_classification\n",
    "from imblearn.over_sampling import SMOTE\n",
    "from sklearn.model_selection import train_test_split\n",
    "from collections import Counter\n",
    "from sklearn.metrics import confusion_matrix, balanced_accuracy_score\n",
    "import seaborn as sns\n",
    "from sklearn.preprocessing import StandardScaler\n",
    "from sklearn.decomposition import PCA\n",
    "from sklearn.datasets import load_iris\n",
    "from sklearn.preprocessing import StandardScaler\n",
    "from sklearn.feature_extraction.text import CountVectorizer\n",
    "from sklearn.model_selection import GridSearchCV\n"
   ]
  },
  {
   "cell_type": "code",
   "execution_count": 2,
   "id": "91c4a3d7",
   "metadata": {},
   "outputs": [],
   "source": [
    "# Define preprocessing functions\n",
    "\n",
    "# General preprocessing\n",
    "def preprocess_text(text):\n",
    "    \n",
    "    # Convert text to lowercase\n",
    "    text = text.lower()\n",
    "    \n",
    "    # remove a special thing\n",
    "    text = re.sub(r'&gt;',' ',text)\n",
    "    \n",
    "    # remove semicolons, ampersands\n",
    "    text = re.sub(r'[&;-]', ' ', text)\n",
    "    \n",
    "    # Remove punctuation and special characters\n",
    "    text = re.sub(r'[^\\w\\s]', ' ', text)\n",
    "    \n",
    "    # Remove numbers\n",
    "    text = re.sub(r'\\d+', '', text)\n",
    "    \n",
    "    # other weird stuff to remove\n",
    "    text = re.sub(r'\\xa0',' ',text)\n",
    "    \n",
    "    # other weird stuff to remove\n",
    "    text = re.sub(r'including aura',' ',text)\n",
    "    \n",
    "    start_index = text.find('description of emu evaluation')\n",
    "    # If the phrase is found, remove it along with the subsequent characters\n",
    "    if start_index != -1:\n",
    "        text = text[:start_index]\n",
    "    \n",
    "    return text\n",
    "\n",
    "# Extract just the semiology bits from the templates\n",
    "def extract_only_semiology(text):\n",
    "    \n",
    "    # flexible here\n",
    "    text = re.sub('subjective semiology (including aura)','subjective semiology',text)\n",
    "    \n",
    "    sub_pattern = re.compile(r\"(?<=subjective semiology)(.*?)(?=witnesses report)\", re.DOTALL)\n",
    "    sub_matches = sub_pattern.findall(text)\n",
    "    \n",
    "    wit_pattern = re.compile(r\"(?<=witnesses report)(.*?)(?=duration)\", re.DOTALL)\n",
    "    wit_matches = wit_pattern.findall(text)\n",
    "    \n",
    "    dur_pattern = re.compile(r\"(?<=duration)(.*?)(?=postictal)\", re.DOTALL)\n",
    "    dur_matches = dur_pattern.findall(text)\n",
    "    \n",
    "    post_pattern = re.compile(r\"(?<=postictal)(.*?)(?=tongue biting)\", re.DOTALL)\n",
    "    post_matches = post_pattern.findall(text)\n",
    "    \n",
    "    if wit_matches or sub_matches or dur_matches or post_matches:\n",
    "        concatenated_text = ' '.join(sub_matches) + ' '.join(wit_matches) + ' '.join(dur_matches) + ' '.join(post_matches)\n",
    "        return concatenated_text\n",
    "    else:\n",
    "        return text\n",
    "    \n",
    "# Other template\n",
    "def extract_only_semiology2(text):\n",
    "    \n",
    "    \n",
    "    sub_pattern = re.compile(r\"(?<=event description)(.*?)(?=age at onset)\", re.DOTALL)\n",
    "    sub_matches = sub_pattern.findall(text)\n",
    "    \n",
    "    wit_pattern = re.compile(r\"(?<=seizure description)(.*?)(?=age at onset)\", re.DOTALL)\n",
    "    wit_matches = wit_pattern.findall(text)\n",
    "    \n",
    "    if wit_matches or sub_matches:\n",
    "        concatenated_text = ' '.join(sub_matches) + ' '.join(wit_matches)\n",
    "        return concatenated_text\n",
    "    else:\n",
    "        return text\n",
    "    \n",
    "def remove_extra_spaces(text):\n",
    "    # Split the text into words\n",
    "    words = text.split()\n",
    "    # Join the words back together with a single space between them\n",
    "    cleaned_text = ' '.join(words)\n",
    "    # Remove any remaining extra spaces and newlines\n",
    "    cleaned_text = cleaned_text.replace('\\n', ' ')\n",
    "    return cleaned_text\n",
    "\n",
    "# Make a new censored_semiology which censors obvious seizure words\n",
    "def censor_text(text):\n",
    "    \n",
    "    phrases_to_replace = ['spells','spell','fias','seizures','episodes','episode','pnes','pnee','epileptic','events','event','seizure','fbtcs','btcs','btc','aura','gtc','postictal','ictal','fas']\n",
    "    \n",
    "    # Construct a regular expression pattern by joining the phrases with \"|\" to match any of them\n",
    "    pattern = '|'.join(re.escape(phrase) for phrase in phrases_to_replace)\n",
    "    \n",
    "    # Use the sub() function to replace matched phrases with an empty string\n",
    "    cleaned_text = re.sub(pattern, '', text)\n",
    "    \n",
    "    return cleaned_text"
   ]
  },
  {
   "cell_type": "code",
   "execution_count": 3,
   "id": "e07d35b0",
   "metadata": {},
   "outputs": [
    {
     "name": "stderr",
     "output_type": "stream",
     "text": [
      "/var/folders/kc/k0vnmns51gx_9t0mb0x8x_7r0000gn/T/ipykernel_6503/3937296961.py:27: SettingWithCopyWarning: \n",
      "A value is trying to be set on a copy of a slice from a DataFrame.\n",
      "Try using .loc[row_indexer,col_indexer] = value instead\n",
      "\n",
      "See the caveats in the documentation: https://pandas.pydata.org/pandas-docs/stable/user_guide/indexing.html#returning-a-view-versus-a-copy\n",
      "  df3['censored_semiology'] = df3['clean_semiology'].apply(censor_text)\n"
     ]
    }
   ],
   "source": [
    "# Load in and pre-process data\n",
    "\n",
    "# Load the CSV file into a DataFrame\n",
    "df1 = pd.read_csv('../data/erin_semiology.csv')\n",
    "\n",
    "# Handling missing values\n",
    "df1['semiology'] = df1['semiology'].fillna('')\n",
    "\n",
    "# Remove patients with non-matching last name\n",
    "df1 = df1[df1['matching_last_name'] == True]\n",
    "\n",
    "# Group by patient_id and aggregate semiology\n",
    "df2 = df1.groupby('patient_id')['semiology'].agg(lambda x: ' '.join(set(x))).reset_index()\n",
    "\n",
    "# Merge df2 with df1 to retain original columns\n",
    "df2 = pd.merge(df2, df1.drop_duplicates('patient_id'), on='patient_id', how='left')\n",
    "\n",
    "# apply all cleaning\n",
    "df2['clean_semiology'] = df2['semiology_x'].apply(preprocess_text)\n",
    "#df2['clean_semiology'] = df2['clean_semiology'].apply(extract_only_semiology)\n",
    "#df2['clean_semiology'] = df2['clean_semiology'].apply(extract_only_semiology2)\n",
    "df2['clean_semiology'] = df2['clean_semiology'].apply(remove_extra_spaces)\n",
    "\n",
    "df3 = df2[df2['clean_semiology'] != '']\n",
    "\n",
    "# Censor text\n",
    "df3['censored_semiology'] = df3['clean_semiology'].apply(censor_text)\n"
   ]
  },
  {
   "cell_type": "code",
   "execution_count": 4,
   "id": "31b7ba5a",
   "metadata": {},
   "outputs": [],
   "source": [
    "def case_epi():\n",
    "    pos_label = 'epilepsy'\n",
    "    neg_label = 'pnes'\n",
    "    column = 'single_diagnosis'\n",
    "    return pos_label, neg_label, column\n",
    "def case_loc():\n",
    "    pos_label = 'temporal'\n",
    "    neg_label = 'frontal'\n",
    "    column = 'single_loc'\n",
    "    return pos_label, neg_label, column\n",
    "def case_lat():\n",
    "    pos_label = 'left'\n",
    "    neg_label = 'right'\n",
    "    column = 'single_lat'\n",
    "    return pos_label, neg_label, column\n",
    "\n",
    "# The 'switch' dictionary\n",
    "switch_dict = {\n",
    "    1: case_epi,\n",
    "    2: case_loc,\n",
    "    3: case_lat,\n",
    "}"
   ]
  },
  {
   "cell_type": "code",
   "execution_count": 5,
   "id": "11d1bcbc",
   "metadata": {},
   "outputs": [],
   "source": [
    "# Restrict and make labels\n",
    "case_to_handle = 1\n",
    "pos_label, neg_label, column = switch_dict.get(case_to_handle, 1)()\n"
   ]
  },
  {
   "cell_type": "code",
   "execution_count": 6,
   "id": "f9510b9b",
   "metadata": {},
   "outputs": [
    {
     "name": "stderr",
     "output_type": "stream",
     "text": [
      "/var/folders/kc/k0vnmns51gx_9t0mb0x8x_7r0000gn/T/ipykernel_6503/1410150024.py:2: SettingWithCopyWarning: \n",
      "A value is trying to be set on a copy of a slice from a DataFrame.\n",
      "Try using .loc[row_indexer,col_indexer] = value instead\n",
      "\n",
      "See the caveats in the documentation: https://pandas.pydata.org/pandas-docs/stable/user_guide/indexing.html#returning-a-view-versus-a-copy\n",
      "  df4['labels'] = df4[column].apply(lambda x: 1 if x == pos_label else 0)\n"
     ]
    }
   ],
   "source": [
    "df4 = df3[df3[column].isin([pos_label,neg_label])]\n",
    "df4['labels'] = df4[column].apply(lambda x: 1 if x == pos_label else 0)"
   ]
  },
  {
   "cell_type": "code",
   "execution_count": 7,
   "id": "8da43371",
   "metadata": {},
   "outputs": [
    {
     "name": "stdout",
     "output_type": "stream",
     "text": [
      "Number of positive labels is: 430\n",
      "Number of negative labels is: 132\n"
     ]
    }
   ],
   "source": [
    "df = df4\n",
    "\n",
    "num_pos = (df['labels'] == 1).sum()\n",
    "num_neg = (df['labels'] == 0).sum()\n",
    "print(\"Number of positive labels is:\",num_pos)\n",
    "print(\"Number of negative labels is:\",num_neg)"
   ]
  },
  {
   "cell_type": "code",
   "execution_count": 8,
   "id": "b6d43cc5",
   "metadata": {},
   "outputs": [],
   "source": [
    "def case_bow():\n",
    "    vectorizer = CountVectorizer()\n",
    "    return vectorizer\n",
    "def case_tfidf():\n",
    "    vectorizer = TfidfVectorizer(max_features=1000)\n",
    "    return vectorizer\n",
    "\n",
    "# The 'switch' dictionary\n",
    "switch_dict = {\n",
    "    1: case_bow,\n",
    "    2: case_tfidf,\n",
    "}"
   ]
  },
  {
   "cell_type": "code",
   "execution_count": 9,
   "id": "1ec80905",
   "metadata": {},
   "outputs": [],
   "source": [
    "# decide vectorizer\n",
    "case_to_handle = 2\n",
    "vectorizer = switch_dict.get(case_to_handle,1)()"
   ]
  },
  {
   "cell_type": "code",
   "execution_count": 10,
   "id": "a39ea7ce",
   "metadata": {},
   "outputs": [],
   "source": [
    "# Fit the vectorizer to the training data and transform it\n",
    "X = vectorizer.fit_transform(df['censored_semiology']).toarray()\n",
    "\n",
    "# Get the feature names (i.e., the vocabulary)\n",
    "feature_names = vectorizer.get_feature_names_out()"
   ]
  },
  {
   "cell_type": "code",
   "execution_count": 11,
   "id": "c85217d9",
   "metadata": {},
   "outputs": [],
   "source": [
    "# Define y\n",
    "y = df['labels']\n",
    "\n"
   ]
  },
  {
   "cell_type": "code",
   "execution_count": 12,
   "id": "6c1653f9",
   "metadata": {},
   "outputs": [],
   "source": [
    "# Split the data into training and testing sets\n",
    "X_train, X_test, y_train, y_test = train_test_split(X, y, test_size=0.3)\n"
   ]
  },
  {
   "cell_type": "code",
   "execution_count": 13,
   "id": "0027351e",
   "metadata": {},
   "outputs": [],
   "source": [
    "# Apply SMOTE\n",
    "sm = SMOTE()\n",
    "X_train_res, y_train_res = sm.fit_resample(X_train, y_train)"
   ]
  },
  {
   "cell_type": "code",
   "execution_count": 14,
   "id": "fe6f95db",
   "metadata": {},
   "outputs": [
    {
     "data": {
      "text/html": [
       "<style>#sk-container-id-1 {color: black;background-color: white;}#sk-container-id-1 pre{padding: 0;}#sk-container-id-1 div.sk-toggleable {background-color: white;}#sk-container-id-1 label.sk-toggleable__label {cursor: pointer;display: block;width: 100%;margin-bottom: 0;padding: 0.3em;box-sizing: border-box;text-align: center;}#sk-container-id-1 label.sk-toggleable__label-arrow:before {content: \"▸\";float: left;margin-right: 0.25em;color: #696969;}#sk-container-id-1 label.sk-toggleable__label-arrow:hover:before {color: black;}#sk-container-id-1 div.sk-estimator:hover label.sk-toggleable__label-arrow:before {color: black;}#sk-container-id-1 div.sk-toggleable__content {max-height: 0;max-width: 0;overflow: hidden;text-align: left;background-color: #f0f8ff;}#sk-container-id-1 div.sk-toggleable__content pre {margin: 0.2em;color: black;border-radius: 0.25em;background-color: #f0f8ff;}#sk-container-id-1 input.sk-toggleable__control:checked~div.sk-toggleable__content {max-height: 200px;max-width: 100%;overflow: auto;}#sk-container-id-1 input.sk-toggleable__control:checked~label.sk-toggleable__label-arrow:before {content: \"▾\";}#sk-container-id-1 div.sk-estimator input.sk-toggleable__control:checked~label.sk-toggleable__label {background-color: #d4ebff;}#sk-container-id-1 div.sk-label input.sk-toggleable__control:checked~label.sk-toggleable__label {background-color: #d4ebff;}#sk-container-id-1 input.sk-hidden--visually {border: 0;clip: rect(1px 1px 1px 1px);clip: rect(1px, 1px, 1px, 1px);height: 1px;margin: -1px;overflow: hidden;padding: 0;position: absolute;width: 1px;}#sk-container-id-1 div.sk-estimator {font-family: monospace;background-color: #f0f8ff;border: 1px dotted black;border-radius: 0.25em;box-sizing: border-box;margin-bottom: 0.5em;}#sk-container-id-1 div.sk-estimator:hover {background-color: #d4ebff;}#sk-container-id-1 div.sk-parallel-item::after {content: \"\";width: 100%;border-bottom: 1px solid gray;flex-grow: 1;}#sk-container-id-1 div.sk-label:hover label.sk-toggleable__label {background-color: #d4ebff;}#sk-container-id-1 div.sk-serial::before {content: \"\";position: absolute;border-left: 1px solid gray;box-sizing: border-box;top: 0;bottom: 0;left: 50%;z-index: 0;}#sk-container-id-1 div.sk-serial {display: flex;flex-direction: column;align-items: center;background-color: white;padding-right: 0.2em;padding-left: 0.2em;position: relative;}#sk-container-id-1 div.sk-item {position: relative;z-index: 1;}#sk-container-id-1 div.sk-parallel {display: flex;align-items: stretch;justify-content: center;background-color: white;position: relative;}#sk-container-id-1 div.sk-item::before, #sk-container-id-1 div.sk-parallel-item::before {content: \"\";position: absolute;border-left: 1px solid gray;box-sizing: border-box;top: 0;bottom: 0;left: 50%;z-index: -1;}#sk-container-id-1 div.sk-parallel-item {display: flex;flex-direction: column;z-index: 1;position: relative;background-color: white;}#sk-container-id-1 div.sk-parallel-item:first-child::after {align-self: flex-end;width: 50%;}#sk-container-id-1 div.sk-parallel-item:last-child::after {align-self: flex-start;width: 50%;}#sk-container-id-1 div.sk-parallel-item:only-child::after {width: 0;}#sk-container-id-1 div.sk-dashed-wrapped {border: 1px dashed gray;margin: 0 0.4em 0.5em 0.4em;box-sizing: border-box;padding-bottom: 0.4em;background-color: white;}#sk-container-id-1 div.sk-label label {font-family: monospace;font-weight: bold;display: inline-block;line-height: 1.2em;}#sk-container-id-1 div.sk-label-container {text-align: center;}#sk-container-id-1 div.sk-container {/* jupyter's `normalize.less` sets `[hidden] { display: none; }` but bootstrap.min.css set `[hidden] { display: none !important; }` so we also need the `!important` here to be able to override the default hidden behavior on the sphinx rendered scikit-learn.org. See: https://github.com/scikit-learn/scikit-learn/issues/21755 */display: inline-block !important;position: relative;}#sk-container-id-1 div.sk-text-repr-fallback {display: none;}</style><div id=\"sk-container-id-1\" class=\"sk-top-container\"><div class=\"sk-text-repr-fallback\"><pre>LogisticRegression(C=20, max_iter=1000, random_state=42, solver=&#x27;saga&#x27;)</pre><b>In a Jupyter environment, please rerun this cell to show the HTML representation or trust the notebook. <br />On GitHub, the HTML representation is unable to render, please try loading this page with nbviewer.org.</b></div><div class=\"sk-container\" hidden><div class=\"sk-item\"><div class=\"sk-estimator sk-toggleable\"><input class=\"sk-toggleable__control sk-hidden--visually\" id=\"sk-estimator-id-1\" type=\"checkbox\" checked><label for=\"sk-estimator-id-1\" class=\"sk-toggleable__label sk-toggleable__label-arrow\">LogisticRegression</label><div class=\"sk-toggleable__content\"><pre>LogisticRegression(C=20, max_iter=1000, random_state=42, solver=&#x27;saga&#x27;)</pre></div></div></div></div></div>"
      ],
      "text/plain": [
       "LogisticRegression(C=20, max_iter=1000, random_state=42, solver='saga')"
      ]
     },
     "execution_count": 14,
     "metadata": {},
     "output_type": "execute_result"
    }
   ],
   "source": [
    "# Train a logistic regression classifier\n",
    "log_reg = LogisticRegression(penalty='l2', C=1, solver='saga', max_iter=1000, random_state=42)\n",
    "log_reg.fit(X_train_res, y_train_res)"
   ]
  },
  {
   "cell_type": "code",
   "execution_count": 15,
   "id": "c7e14934",
   "metadata": {},
   "outputs": [],
   "source": [
    "# Calculate predicted probabilities\n",
    "y_probs = log_reg.predict_proba(X_test)[:, 1]"
   ]
  },
  {
   "cell_type": "code",
   "execution_count": 16,
   "id": "29fadf78",
   "metadata": {},
   "outputs": [
    {
     "data": {
      "image/png": "[encoded data removed]",
      "text/plain": [
       "<Figure size 640x480 with 1 Axes>"
      ]
     },
     "metadata": {},
     "output_type": "display_data"
    }
   ],
   "source": [
    "# Calculate the ROC curve\n",
    "fpr, tpr, thresholds = roc_curve(y_test, y_probs)\n",
    "\n",
    "# Calculate the area under the ROC curve\n",
    "roc_auc = auc(fpr, tpr)\n",
    "\n",
    "# Plot ROC curve\n",
    "plt.figure()\n",
    "plt.plot(fpr, tpr, color='blue', lw=2, label='ROC curve (area = %0.2f)' % roc_auc)\n",
    "plt.plot([0, 1], [0, 1], color='gray', linestyle='--')\n",
    "plt.xlim([0.0, 1.0])\n",
    "plt.ylim([0.0, 1.05])\n",
    "plt.xlabel('False Positive Rate')\n",
    "plt.ylabel('True Positive Rate')\n",
    "plt.title('Receiver Operating Characteristic (ROC) Curve')\n",
    "plt.legend(loc=\"lower right\")\n",
    "plt.show()"
   ]
  },
  {
   "cell_type": "code",
   "execution_count": 17,
   "id": "e1d40959",
   "metadata": {},
   "outputs": [
    {
     "data": {
      "image/png": "[encoded data removed]",
      "text/plain": [
       "<Figure size 800x600 with 1 Axes>"
      ]
     },
     "metadata": {},
     "output_type": "display_data"
    },
    {
     "name": "stdout",
     "output_type": "stream",
     "text": [
      "Balanced Accuracy: 0.6177944862155388\n"
     ]
    }
   ],
   "source": [
    "# Predict classes\n",
    "y_pred = log_reg.predict(X_test)\n",
    "\n",
    "# Create confusion matrix\n",
    "conf_matrix = confusion_matrix(y_test, y_pred)\n",
    "tn, fp, fn, tp = conf_matrix.ravel()\n",
    "\n",
    "# Calculate Balanced Accuracy\n",
    "balanced_accuracy = balanced_accuracy_score(y_test, y_pred)\n",
    "\n",
    "# Plot confusion matrix\n",
    "plt.figure(figsize=(8, 6))\n",
    "sns.heatmap(conf_matrix, annot=True, fmt=\"d\", cmap=\"Blues\", cbar=False)\n",
    "plt.title('Confusion Matrix')\n",
    "plt.xlabel('Predicted')\n",
    "plt.ylabel('Actual')\n",
    "plt.show()\n",
    "\n",
    "print(\"Balanced Accuracy:\", balanced_accuracy)"
   ]
  },
  {
   "cell_type": "code",
   "execution_count": 18,
   "id": "6ecfd68e",
   "metadata": {},
   "outputs": [
    {
     "name": "stdout",
     "output_type": "stream",
     "text": [
      "Top 10 features pointing towards class 1:\n",
      "seconds (Coefficient: 4.8532)\n",
      "none (Coefficient: 4.6947)\n",
      "convulsive (Coefficient: 4.1670)\n",
      "ago (Coefficient: 3.7722)\n",
      "months (Coefficient: 3.7475)\n",
      "then (Coefficient: 3.6998)\n",
      "automatisms (Coefficient: 3.6364)\n",
      "myoclonus (Coefficient: 3.5786)\n",
      "jerks (Coefficient: 3.5476)\n",
      "focal (Coefficient: 3.5347)\n",
      "eye (Coefficient: 3.5109)\n",
      "smacking (Coefficient: 3.4637)\n",
      "post (Coefficient: 3.2709)\n",
      "cry (Coefficient: 3.2614)\n",
      "children (Coefficient: 3.2273)\n",
      "stares (Coefficient: 3.1651)\n",
      "words (Coefficient: 3.1475)\n",
      "behavioral (Coefficient: 3.1226)\n",
      "gets (Coefficient: 3.0534)\n",
      "uncertain (Coefficient: 3.0492)\n",
      "\n",
      "Top 10 features pointing towards class 0:\n",
      "vision (Coefficient: -5.8863)\n",
      "body (Coefficient: -5.8315)\n",
      "side (Coefficient: -5.7548)\n",
      "difficulty (Coefficient: -5.2104)\n",
      "bowel (Coefficient: -5.0198)\n",
      "jerking (Coefficient: -4.4420)\n",
      "stuttering (Coefficient: -4.4143)\n",
      "shaking (Coefficient: -4.2819)\n",
      "there (Coefficient: -4.2015)\n",
      "bobbing (Coefficient: -4.0961)\n",
      "paralysis (Coefficient: -3.9340)\n",
      "slurred (Coefficient: -3.6949)\n",
      "veeg (Coefficient: -3.4229)\n",
      "video (Coefficient: -3.3225)\n",
      "trouble (Coefficient: -3.2971)\n",
      "disorientation (Coefficient: -3.2948)\n",
      "progressing (Coefficient: -3.2827)\n",
      "legs (Coefficient: -3.2713)\n",
      "preserved (Coefficient: -3.2388)\n",
      "feels (Coefficient: -3.2046)\n"
     ]
    }
   ],
   "source": [
    "# Get the coefficients for each class\n",
    "coefficients = log_reg.coef_[0]  # Extract coefficients for the binary classification\n",
    "\n",
    "# Separate features pointing towards class 1 and class 0\n",
    "features_class_1 = np.argsort(coefficients)[-20:]  # Top 10 features pointing towards class 1\n",
    "features_class_0 = np.argsort(coefficients)[:20]   # Top 10 features pointing towards class 0\n",
    "\n",
    "print(\"Top 10 features pointing towards class 1:\")\n",
    "for idx in reversed(features_class_1):  # Reverse to show the highest first\n",
    "    print(f\"{feature_names[idx]} (Coefficient: {coefficients[idx]:.4f})\")\n",
    "\n",
    "print(\"\\nTop 10 features pointing towards class 0:\")\n",
    "for idx in features_class_0:\n",
    "    print(f\"{feature_names[idx]} (Coefficient: {coefficients[idx]:.4f})\")\n"
   ]
  },
  {
   "cell_type": "code",
   "execution_count": 19,
   "id": "ff5fd424",
   "metadata": {},
   "outputs": [
    {
     "name": "stdout",
     "output_type": "stream",
     "text": [
      "Cases with the highest probability of being Class 1 and their corresponding text:\n",
      "                                        clean_semiology  \\\n",
      "505   convulsive with tongue biting and urinary inco...   \n",
      "199   fas right hand numbness extending from elbow t...   \n",
      "1113  stare sweating loss of awareness btc tongue bi...   \n",
      "706   nocturnal hypermotor non convulsive times mont...   \n",
      "1123  bilateral tonic clonic seizures nocturnal last...   \n",
      "301   fas nausea and deja vu sometimes with vomiting...   \n",
      "47    event type staring suspected fia description b...   \n",
      "949   inappropriate or excessive laughter triggered ...   \n",
      "980   tonic clonic seizures no aura with tongue biti...   \n",
      "585   gtc frequency uncertain hand jerk perhaps a fe...   \n",
      "\n",
      "                                     censored_semiology  Probability_0  \\\n",
      "505   convulsive with tongue biting and urinary inco...       0.003373   \n",
      "199    right hand numbness extending from elbow to h...       0.004900   \n",
      "1113  stare sweating loss of awareness  tongue bitin...       0.005969   \n",
      "706   nocturnal hypermotor non convulsive times mont...       0.006520   \n",
      "1123  bilateral tonic clonic  nocturnal lasting seco...       0.009315   \n",
      "301    nausea and deja vu sometimes with vomiting an...       0.011581   \n",
      "47     type staring suspected fia description behavi...       0.011590   \n",
      "949   inappropriate or excessive laughter triggered ...       0.012672   \n",
      "980   tonic clonic  no  with tongue biting but no in...       0.012874   \n",
      "585    frequency uncertain hand jerk perhaps a few w...       0.014008   \n",
      "\n",
      "      Probability_1  Actual_Label  \n",
      "505        0.996627             1  \n",
      "199        0.995100             1  \n",
      "1113       0.994031             1  \n",
      "706        0.993480             1  \n",
      "1123       0.990685             1  \n",
      "301        0.988419             1  \n",
      "47         0.988410             1  \n",
      "949        0.987328             0  \n",
      "980        0.987126             1  \n",
      "585        0.985992             1  \n",
      "Cases with the highest probability of being Class 0 and their corresponding text:\n",
      "                                        clean_semiology  \\\n",
      "1016  presumed bilateral tonic clonic seizures remot...   \n",
      "26    generalized tonic clonic movements head deviat...   \n",
      "1079  subjective semiology lips numb jaw feeling eit...   \n",
      "515   loss of awareness brain fog and memory lapse d...   \n",
      "724   staring spells with loss of consciousness fall...   \n",
      "229   whole body folds up on itself jaw clenches bot...   \n",
      "254   staring spells convulsions followed by hours o...   \n",
      "122   event wakes up from sleep shaking all over ret...   \n",
      "784   semiology focal impaired awareness seizure aur...   \n",
      "914   event average frequency nearly daily have occa...   \n",
      "\n",
      "                                     censored_semiology  Probability_0  \\\n",
      "1016  presumed bilateral tonic clonic  remote in chi...       0.951427   \n",
      "26    generalized tonic clonic movements head deviat...       0.939408   \n",
      "1079  subjective semiology lips numb jaw feeling eit...       0.927937   \n",
      "515   loss of awareness brain fog and memory lapse d...       0.901608   \n",
      "724   staring  with loss of consciousness fall to th...       0.892921   \n",
      "229   whole body folds up on itself jaw clenches bot...       0.849760   \n",
      "254   staring  convulsions followed by hours of  con...       0.831186   \n",
      "122    wakes up from sleep shaking all over retained...       0.812579   \n",
      "784   semiology focal impaired awareness   feels off...       0.812146   \n",
      "914    average frequency nearly daily have occasiona...       0.800490   \n",
      "\n",
      "      Probability_1  Actual_Label  \n",
      "1016       0.048573             1  \n",
      "26         0.060592             1  \n",
      "1079       0.072063             0  \n",
      "515        0.098392             0  \n",
      "724        0.107079             0  \n",
      "229        0.150240             0  \n",
      "254        0.168814             1  \n",
      "122        0.187421             1  \n",
      "784        0.187854             0  \n",
      "914        0.199510             0  \n"
     ]
    }
   ],
   "source": [
    "# see highest prob cases of pnes\n",
    "# Create a DataFrame to store predicted probabilities and original labels\n",
    "predictions_df = pd.DataFrame({'Probability_1': y_probs, 'Probability_0':1-y_probs,'Actual_Label': y_test})\n",
    "\n",
    "# Sort instances based on predicted probabilities (descending order)\n",
    "predictions_df_sorted = predictions_df.sort_values(by='Probability_1', ascending=False)\n",
    "predictions_df_reverse_sorted = predictions_df.sort_values(by='Probability_0', ascending=False)\n",
    "\n",
    "\n",
    "# Display instances with the highest probability\n",
    "top_n = 10  # You can adjust this value to display more or fewer instances\n",
    "top_1_instances = predictions_df_sorted.head(top_n)\n",
    "top_0_instances = predictions_df_reverse_sorted.head(top_n)\n",
    "\n",
    "# Merge the DataFrame containing predicted probabilities with the original DataFrame\n",
    "top_1_instances_with_text = pd.merge(top_1_instances, df, left_index=True, right_index=True)\n",
    "top_0_instances_with_text = pd.merge(top_0_instances, df, left_index=True, right_index=True)\n",
    "\n",
    "\n",
    "# Select relevant columns (e.g., \"cleaner_semiology\", \"Probability_pnes\", \"Actual_Label\")\n",
    "relevant_columns = [\"clean_semiology\",\"censored_semiology\", \"Probability_0\", \"Probability_1\", \"Actual_Label\"]\n",
    "top_1_instances_text = top_1_instances_with_text[relevant_columns]\n",
    "top_0_instances_text = top_0_instances_with_text[relevant_columns]\n",
    "\n",
    "\n",
    "# Display instances with the highest probability of being 0 along with their text\n",
    "print(\"Cases with the highest probability of being Class 1 and their corresponding text:\")\n",
    "print(top_1_instances_text)\n",
    "\n",
    "print(\"Cases with the highest probability of being Class 0 and their corresponding text:\")\n",
    "print(top_0_instances_text)"
   ]
  },
  {
   "cell_type": "code",
   "execution_count": null,
   "id": "24986a18",
   "metadata": {},
   "outputs": [],
   "source": []
  },
  {
   "cell_type": "code",
   "execution_count": null,
   "id": "60249c26",
   "metadata": {},
   "outputs": [],
   "source": []
  },
  {
   "cell_type": "code",
   "execution_count": null,
   "id": "bec6a50f",
   "metadata": {},
   "outputs": [],
   "source": []
  },
  {
   "cell_type": "code",
   "execution_count": null,
   "id": "8560090e",
   "metadata": {},
   "outputs": [],
   "source": []
  },
  {
   "cell_type": "code",
   "execution_count": null,
   "id": "009ea0a8",
   "metadata": {},
   "outputs": [],
   "source": []
  }
 ],
 "metadata": {
  "kernelspec": {
   "display_name": "Python 3 (ipykernel)",
   "language": "python",
   "name": "python3"
  },
  "language_info": {
   "codemirror_mode": {
    "name": "ipython",
    "version": 3
   },
   "file_extension": ".py",
   "mimetype": "text/x-python",
   "name": "python",
   "nbconvert_exporter": "python",
   "pygments_lexer": "ipython3",
   "version": "3.10.8"
  }
 },
 "nbformat": 4,
 "nbformat_minor": 5
}
